{
 "cells": [
  {
   "cell_type": "markdown",
   "id": "b7d25a42",
   "metadata": {},
   "source": [
    "1. Explain the Properties of the F-Distribution?\n",
    "The F-distribution has the following properties:\n",
    "\n",
    "Non-negativity: Values of the F-distribution are always non-negative because it's based on variance ratios.\n",
    "Asymmetry: The F-distribution is right-skewed, especially when degrees of freedom (df) are small, but the skewness reduces as df increase.\n",
    "Degrees of Freedom Dependence: The shape of the F-distribution depends on two sets of degrees of freedom—one for the numerator and one for the denominator.\n",
    "Mean and Mode: The mean of an F-distribution is approximately 1 if the numerator and denominator degrees of freedom are large. The mode, however, is typically less than 1.\n",
    "Variance: The variance of the F-distribution depends on the degrees of freedom and becomes smaller as df increase."
   ]
  },
  {
   "cell_type": "markdown",
   "id": "e5467721",
   "metadata": {},
   "source": [
    "2. In which types of statistical tests is the F-distribution used, and why is it appropriate for these tests?\n",
    "The F-distribution is commonly used in:\n",
    "\n",
    "ANOVA (Analysis of Variance): To test if there are significant differences between group means by comparing variance between and within groups.\n",
    "F-tests for Variance: To compare the variances of two populations.\n",
    "Regression Analysis: To test the overall significance of a regression model.\n",
    "The F-distribution is appropriate for these tests because it models the ratio of variances, which is central in comparing variability across groups or determining if observed variability is due to chance."
   ]
  },
  {
   "cell_type": "markdown",
   "id": "c69382bb",
   "metadata": {},
   "source": [
    "3. What are the key assumptions required for conducting an F-test to compare the variances of two\n",
    "populations?\n",
    "For a valid F-test to compare variances, the following assumptions are required:\n",
    "\n",
    "Normality: The populations from which samples are drawn should be normally distributed.\n",
    "Independence: Observations in each sample should be independent of each other.\n",
    "Random Sampling: Each sample should be randomly selected from the population."
   ]
  },
  {
   "cell_type": "markdown",
   "id": "b7986cf4",
   "metadata": {},
   "source": [
    "4. What is the purpose of ANOVA, and how does it differ from a t-test?\n",
    "Purpose of ANOVA: ANOVA is used to test if there are statistically significant differences between the means of three or more independent groups.\n",
    "Difference from a t-test: While a t-test compares means between two groups, ANOVA extends this comparison to multiple groups without inflating the Type I error rate, which would happen with multiple t-tests."
   ]
  },
  {
   "cell_type": "markdown",
   "id": "45129a07",
   "metadata": {},
   "source": [
    "5. Explain when and why you would use a one-way ANOVA instead of multiple t-tests when comparing more\n",
    "than two groups?\n",
    "Using multiple t-tests for comparing several groups increases the risk of committing a Type I error (false positives) due to repeated testing. One-way ANOVA provides a single test to check for any differences among groups, thus controlling for this error inflation."
   ]
  },
  {
   "cell_type": "markdown",
   "id": "f18e06c9",
   "metadata": {},
   "source": [
    "6. Explain how variance is partitioned in ANOVA into between-group variance and within-group variance.\n",
    "How does this partitioning contribute to the calculation of the F-statistic?\n",
    "\n",
    "Between-group variance: Measures the variance of group means around the overall mean. This captures differences in performance across groups.\n",
    "Within-group variance: Measures the variance of individual observations within each group around their group mean."
   ]
  },
  {
   "cell_type": "markdown",
   "id": "31720700",
   "metadata": {},
   "source": [
    "7. Compare the classical (frequentist) approach to ANOVA with the Bayesian approach. What are the key\n",
    "differences in terms of how they handle uncertainty, parameter estimation, and hypothesis testing?\n",
    "Frequentist ANOVA: Assumes fixed parameters and calculates p-values for hypothesis testing, interpreting results in terms of significance.\n",
    "Bayesian ANOVA: Incorporates prior knowledge and provides probability distributions over parameters. Instead of p-values, Bayesian ANOVA yields posterior probabilities, directly quantifying the likelihood of hypotheses.\n",
    "The Bayesian approach offers a more flexible framework for incorporating prior knowledge and updating beliefs based on observed data, while the classical approach relies solely on sample data.\n",
    "\n"
   ]
  },
  {
   "cell_type": "markdown",
   "id": "a6095e67",
   "metadata": {},
   "source": [
    "8. Question: You have two sets of data representing the incomes of two different professions1\n",
    "V Profession A: [48, 52, 55, 60, 62'\n",
    "V Profession B: [45, 50, 55, 52, 47] Perform an F-test to determine if the variances of the two professions'\n",
    "incomes are equal. What are your conclusions based on the F-test?\n",
    "\n",
    "Task: Use Python to calculate the F-statistic and p-value for the given data.\n",
    "\n",
    "Objective: Gain experience in performing F-tests and interpreting the results in terms of variance comparison.\n",
    "Given:\n",
    "\n",
    "Profession A: [48, 52, 55, 60, 62]\n",
    "Profession B: [45, 50, 55, 52, 47]\n",
    "To perform the F-test, we calculate the F-statistic and p-value to compare the variances of the two professions."
   ]
  },
  {
   "cell_type": "code",
   "execution_count": 4,
   "id": "d5022698",
   "metadata": {},
   "outputs": [
    {
     "data": {
      "text/plain": [
       "(0.7368421052631583, 0.4156507222081854)"
      ]
     },
     "execution_count": 4,
     "metadata": {},
     "output_type": "execute_result"
    }
   ],
   "source": [
    "import scipy.stats as stats\n",
    "\n",
    "# Data\n",
    "profession_a = [48, 52, 55, 60, 62]\n",
    "profession_b = [45, 50, 55, 52, 47]\n",
    "\n",
    "# F-test\n",
    "f_statistic, p_value = stats.levene(profession_a, profession_b)\n",
    "\n",
    "f_statistic, p_value"
   ]
  },
  {
   "cell_type": "markdown",
   "id": "ae49751b",
   "metadata": {},
   "source": [
    "Interpretation:\n",
    "\n",
    "If the p-value is below the significance level (e.g., 0.05), we reject the null hypothesis that the variances are equal, indicating a significant difference in variance between the two professions."
   ]
  },
  {
   "cell_type": "markdown",
   "id": "8aaa3959",
   "metadata": {},
   "source": [
    "9. Question: Conduct a one-way ANOVA to test whether there are any statistically significant differences in\n",
    "average heights between three different regions with the following data1\n",
    "V Region A: [160, 162, 165, 158, 164'\n",
    "V Region B: [172, 175, 170, 168, 174'\n",
    "V Region C: [180, 182, 179, 185, 183'\n",
    "V Task: Write Python code to perform the one-way ANOVA and interpret the results\f",
    "\n",
    "V Objective: Learn how to perform one-way ANOVA using Python and interpret F-statistic and p-value.\n",
    "Given:\n",
    "\n",
    "Region A: [160, 162, 165, 158, 164]\n",
    "Region B: [172, 175, 170, 168, 174]\n",
    "Region C: [180, 182, 179, 185, 183]\n",
    "To conduct a one-way ANOVA, calculate the F-statistic and p-value to test for significant differences in average heights across regions."
   ]
  },
  {
   "cell_type": "code",
   "execution_count": 5,
   "id": "4246de08",
   "metadata": {},
   "outputs": [
    {
     "data": {
      "text/plain": [
       "(67.87330316742101, 2.870664187937026e-07)"
      ]
     },
     "execution_count": 5,
     "metadata": {},
     "output_type": "execute_result"
    }
   ],
   "source": [
    "# Data for each region\n",
    "region_a = [160, 162, 165, 158, 164]\n",
    "region_b = [172, 175, 170, 168, 174]\n",
    "region_c = [180, 182, 179, 185, 183]\n",
    "\n",
    "# One-way ANOVA\n",
    "f_statistic, p_value = stats.f_oneway(region_a, region_b, region_c)\n",
    "\n",
    "f_statistic, p_value"
   ]
  },
  {
   "cell_type": "markdown",
   "id": "88b89223",
   "metadata": {},
   "source": [
    "Interpretation:\n",
    "\n",
    "If the p-value is below the significance level (e.g., 0.05), we reject the null hypothesis, concluding that there are statistically significant differences in the average heights among the three regions."
   ]
  }
 ],
 "metadata": {
  "kernelspec": {
   "display_name": "Python 3 (ipykernel)",
   "language": "python",
   "name": "python3"
  },
  "language_info": {
   "codemirror_mode": {
    "name": "ipython",
    "version": 3
   },
   "file_extension": ".py",
   "mimetype": "text/x-python",
   "name": "python",
   "nbconvert_exporter": "python",
   "pygments_lexer": "ipython3",
   "version": "3.11.5"
  }
 },
 "nbformat": 4,
 "nbformat_minor": 5
}
